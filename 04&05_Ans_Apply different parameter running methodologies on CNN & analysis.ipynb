{
 "cells": [
  {
   "cell_type": "markdown",
   "id": "60beca8b",
   "metadata": {},
   "source": [
    "## Q4_Ans_Implement Convolutional Neural Network using any suitable dataset"
   ]
  },
  {
   "cell_type": "markdown",
   "id": "daaac97c",
   "metadata": {},
   "source": [
    "## Q5_Ans_Apply different parameter running methodologies on CNN and analysis their performance"
   ]
  },
  {
   "cell_type": "markdown",
   "id": "d1113bf4",
   "metadata": {},
   "source": [
    "### MNIST"
   ]
  },
  {
   "cell_type": "code",
   "execution_count": 1,
   "id": "b619db5f",
   "metadata": {},
   "outputs": [],
   "source": [
    "import numpy as np\n",
    "import pandas as pd\n",
    "import random\n",
    "import tensorflow as tf\n",
    "import matplotlib.pyplot as plt\n",
    "\n",
    "from sklearn.metrics import accuracy_score\n",
    "\n",
    "from tensorflow.keras.models import Sequential\n",
    "from tensorflow.keras.layers import Flatten, Conv2D, Dense, MaxPooling2D\n",
    "from tensorflow.keras.optimizers import SGD\n",
    "from tensorflow.keras.utils import to_categorical\n",
    "from tensorflow.keras.datasets import mnist"
   ]
  },
  {
   "cell_type": "code",
   "execution_count": 2,
   "id": "842cd4cd",
   "metadata": {},
   "outputs": [
    {
     "data": {
      "text/plain": [
       "((60000, 28, 28), (10000, 28, 28), (60000,), (10000,))"
      ]
     },
     "execution_count": 2,
     "metadata": {},
     "output_type": "execute_result"
    }
   ],
   "source": [
    "(X_train, y_train), (X_test, y_test) = mnist.load_data()#split dataset into train and test\n",
    "X_train.shape,X_test.shape,y_train.shape,y_test.shape \n",
    "#check the shape of train and test dataset which is \n",
    "#60000:number of samples in the set\n",
    "#28:height of each image.\n",
    "#28:width of each image."
   ]
  },
  {
   "cell_type": "markdown",
   "id": "2cca3d3f",
   "metadata": {},
   "source": [
    "### DATA SCALING\n",
    "<p>Data scaling is used to reduce computation time as the neural network works easier with the values that don't vary a lot in scale like range in 0 to 1 or -1 to 1 in every input/features"
   ]
  },
  {
   "cell_type": "code",
   "execution_count": 3,
   "id": "d0d9a8c2",
   "metadata": {},
   "outputs": [
    {
     "data": {
      "text/plain": [
       "(0, 255)"
      ]
     },
     "execution_count": 3,
     "metadata": {},
     "output_type": "execute_result"
    }
   ],
   "source": [
    "X_train[0].min(),X_train[0].max()"
   ]
  },
  {
   "cell_type": "code",
   "execution_count": 4,
   "id": "7c773e41",
   "metadata": {},
   "outputs": [
    {
     "data": {
      "text/plain": [
       "(0.0, 1.0)"
      ]
     },
     "execution_count": 4,
     "metadata": {},
     "output_type": "execute_result"
    }
   ],
   "source": [
    "#scaled_value = (original_value – min) / (max – min)\n",
    "X_train = (X_train - 0) / (255 - 0)\n",
    "X_test = (X_test - 0) / (255 - 0)\n",
    "X_train[0].min(), X_train[0].max()"
   ]
  },
  {
   "cell_type": "code",
   "execution_count": 5,
   "id": "3dadd4ca",
   "metadata": {},
   "outputs": [
    {
     "data": {
      "image/png": "[encoded data removed]",
      "text/plain": [
       "<Figure size 1152x720 with 20 Axes>"
      ]
     },
     "metadata": {},
     "output_type": "display_data"
    }
   ],
   "source": [
    "def plot_digit(image, digit, plt, i):\n",
    "    plt.subplot(4, 5, i + 1)\n",
    "    plt.imshow(image, cmap=plt.get_cmap('gray'))\n",
    "    plt.title(f\"Digit: {digit}\")\n",
    "    plt.xticks([])\n",
    "    plt.yticks([])\n",
    "\n",
    "\n",
    "plt.figure(figsize=(16, 10))\n",
    "for i in range(20):\n",
    "    plot_digit(X_train[i], y_train[i], plt, i)\n",
    "    \n",
    "plt.show()"
   ]
  },
  {
   "cell_type": "code",
   "execution_count": 6,
   "id": "c3e33c18",
   "metadata": {},
   "outputs": [
    {
     "data": {
      "text/plain": [
       "(60000, 28, 28)"
      ]
     },
     "execution_count": 6,
     "metadata": {},
     "output_type": "execute_result"
    }
   ],
   "source": [
    "X_train.shape"
   ]
  },
  {
   "cell_type": "code",
   "execution_count": 7,
   "id": "0dbe0ff4",
   "metadata": {},
   "outputs": [
    {
     "data": {
      "text/plain": [
       "(60000, 28, 28, 1)"
      ]
     },
     "execution_count": 7,
     "metadata": {},
     "output_type": "execute_result"
    }
   ],
   "source": [
    "#reshape() function to reshape all of the data by adding that extra dimension.\n",
    "X_train = X_train.reshape((X_train.shape + (1,)))\n",
    "X_test = X_test.reshape((X_test.shape + (1,)))\n",
    "X_train.shape"
   ]
  },
  {
   "cell_type": "markdown",
   "id": "d53a8bf8",
   "metadata": {},
   "source": [
    "***This is important because it determines which loss function we should use to optimize our neural network.\n",
    "We have two options:***\n",
    "\n",
    "<li>Use <b>integers</b> for our target values (as they are now), and make sure we use the <b>\"Sparse Categorical Cross-Entropy\"</b> loss function.</li>\n",
    "<li><b>One-hot encode(float dtype)</b> the targets and use the <b>\"Categorical Cross-Entropy\"</b> loss function."
   ]
  },
  {
   "cell_type": "code",
   "execution_count": 8,
   "id": "06e5519e",
   "metadata": {},
   "outputs": [
    {
     "data": {
      "text/plain": [
       "array([5, 0, 4, 1, 9, 2, 1, 3, 1, 4, 3, 5, 3, 6, 1, 7, 2, 8, 6, 9],\n",
       "      dtype=uint8)"
      ]
     },
     "execution_count": 8,
     "metadata": {},
     "output_type": "execute_result"
    }
   ],
   "source": [
    "#let's take a look at the format of our target values (y_train)\n",
    "y_train[0:20]\n"
   ]
  },
  {
   "cell_type": "markdown",
   "id": "62f7d331",
   "metadata": {},
   "source": [
    "### Define Model"
   ]
  },
  {
   "cell_type": "code",
   "execution_count": 9,
   "id": "bc9fd308",
   "metadata": {},
   "outputs": [],
   "source": [
    "model = Sequential([\n",
    "    Conv2D(32, (3, 3), activation=\"relu\", input_shape=(28, 28, 1)),\n",
    "    MaxPooling2D((2, 2)),\n",
    "    Flatten(),\n",
    "    Dense(100, activation=\"relu\"),\n",
    "    Dense(10, activation=\"softmax\")\n",
    "])"
   ]
  },
  {
   "cell_type": "markdown",
   "id": "aad6b768",
   "metadata": {},
   "source": [
    "### Compile "
   ]
  },
  {
   "cell_type": "code",
   "execution_count": 10,
   "id": "176e93f0",
   "metadata": {},
   "outputs": [
    {
     "name": "stdout",
     "output_type": "stream",
     "text": [
      "Model: \"sequential\"\n",
      "_________________________________________________________________\n",
      " Layer (type)                Output Shape              Param #   \n",
      "=================================================================\n",
      " conv2d (Conv2D)             (None, 26, 26, 32)        320       \n",
      "                                                                 \n",
      " max_pooling2d (MaxPooling2D  (None, 13, 13, 32)       0         \n",
      " )                                                               \n",
      "                                                                 \n",
      " flatten (Flatten)           (None, 5408)              0         \n",
      "                                                                 \n",
      " dense (Dense)               (None, 100)               540900    \n",
      "                                                                 \n",
      " dense_1 (Dense)             (None, 10)                1010      \n",
      "                                                                 \n",
      "=================================================================\n",
      "Total params: 542,230\n",
      "Trainable params: 542,230\n",
      "Non-trainable params: 0\n",
      "_________________________________________________________________\n"
     ]
    }
   ],
   "source": [
    "model.compile(\n",
    "    optimizer='sgd', \n",
    "    loss=\"sparse_categorical_crossentropy\", \n",
    "    metrics=[\"accuracy\"]\n",
    ")\n",
    "model.summary()"
   ]
  },
  {
   "cell_type": "markdown",
   "id": "912a6a86",
   "metadata": {},
   "source": [
    "### Fit the model"
   ]
  },
  {
   "cell_type": "code",
   "execution_count": 11,
   "id": "a53d0f09",
   "metadata": {},
   "outputs": [
    {
     "name": "stdout",
     "output_type": "stream",
     "text": [
      "Epoch 1/20\n",
      "1500/1500 [==============================] - 62s 39ms/step - loss: 0.5422 - accuracy: 0.8563 - val_loss: 0.2605 - val_accuracy: 0.9209\n",
      "Epoch 2/20\n",
      "1500/1500 [==============================] - 65s 43ms/step - loss: 0.2385 - accuracy: 0.9286 - val_loss: 0.1922 - val_accuracy: 0.9442\n",
      "Epoch 3/20\n",
      "1500/1500 [==============================] - 63s 42ms/step - loss: 0.1849 - accuracy: 0.9451 - val_loss: 0.1853 - val_accuracy: 0.9452\n",
      "Epoch 4/20\n",
      "1500/1500 [==============================] - 68s 45ms/step - loss: 0.1532 - accuracy: 0.9546 - val_loss: 0.1504 - val_accuracy: 0.9562\n",
      "Epoch 5/20\n",
      "1500/1500 [==============================] - 65s 43ms/step - loss: 0.1308 - accuracy: 0.9610 - val_loss: 0.1273 - val_accuracy: 0.9637\n",
      "Epoch 6/20\n",
      "1500/1500 [==============================] - 62s 41ms/step - loss: 0.1150 - accuracy: 0.9655 - val_loss: 0.1203 - val_accuracy: 0.9633\n",
      "Epoch 7/20\n",
      "1500/1500 [==============================] - 62s 41ms/step - loss: 0.1033 - accuracy: 0.9693 - val_loss: 0.1125 - val_accuracy: 0.9678\n",
      "Epoch 8/20\n",
      "1500/1500 [==============================] - 61s 41ms/step - loss: 0.0922 - accuracy: 0.9723 - val_loss: 0.1066 - val_accuracy: 0.9693\n",
      "Epoch 9/20\n",
      "1500/1500 [==============================] - 61s 41ms/step - loss: 0.0849 - accuracy: 0.9739 - val_loss: 0.0932 - val_accuracy: 0.9740\n",
      "Epoch 10/20\n",
      "1500/1500 [==============================] - 37s 25ms/step - loss: 0.0771 - accuracy: 0.9765 - val_loss: 0.1069 - val_accuracy: 0.9676\n",
      "Epoch 11/20\n",
      "1500/1500 [==============================] - 31s 21ms/step - loss: 0.0716 - accuracy: 0.9787 - val_loss: 0.0869 - val_accuracy: 0.9737\n",
      "Epoch 12/20\n",
      "1500/1500 [==============================] - 44s 29ms/step - loss: 0.0665 - accuracy: 0.9800 - val_loss: 0.0848 - val_accuracy: 0.9744\n",
      "Epoch 13/20\n",
      "1500/1500 [==============================] - 49s 33ms/step - loss: 0.0616 - accuracy: 0.9812 - val_loss: 0.0861 - val_accuracy: 0.9745\n",
      "Epoch 14/20\n",
      "1500/1500 [==============================] - 45s 30ms/step - loss: 0.0583 - accuracy: 0.9824 - val_loss: 0.0789 - val_accuracy: 0.9757\n",
      "Epoch 15/20\n",
      "1500/1500 [==============================] - 45s 30ms/step - loss: 0.0537 - accuracy: 0.9836 - val_loss: 0.0823 - val_accuracy: 0.9752\n",
      "Epoch 16/20\n",
      "1500/1500 [==============================] - 42s 28ms/step - loss: 0.0506 - accuracy: 0.9848 - val_loss: 0.0812 - val_accuracy: 0.9749\n",
      "Epoch 17/20\n",
      "1500/1500 [==============================] - 44s 29ms/step - loss: 0.0477 - accuracy: 0.9859 - val_loss: 0.0765 - val_accuracy: 0.9758\n",
      "Epoch 18/20\n",
      "1500/1500 [==============================] - 40s 27ms/step - loss: 0.0446 - accuracy: 0.9871 - val_loss: 0.0769 - val_accuracy: 0.9764\n",
      "Epoch 19/20\n",
      "1500/1500 [==============================] - 39s 26ms/step - loss: 0.0425 - accuracy: 0.9869 - val_loss: 0.0775 - val_accuracy: 0.9767\n",
      "Epoch 20/20\n",
      "1500/1500 [==============================] - 39s 26ms/step - loss: 0.0394 - accuracy: 0.9880 - val_loss: 0.0691 - val_accuracy: 0.9794\n"
     ]
    }
   ],
   "source": [
    "from tensorflow.keras.callbacks import EarlyStopping\n",
    "callbacks=[EarlyStopping(monitor='val_accuracy',patience=3)]\n",
    "history=model.fit(X_train, y_train,epochs=20,batch_size=32,validation_split=0.2,callbacks=callbacks)"
   ]
  },
  {
   "cell_type": "markdown",
   "id": "373dbd31",
   "metadata": {},
   "source": [
    "### Evaluation"
   ]
  },
  {
   "cell_type": "code",
   "execution_count": 12,
   "id": "ccac4520",
   "metadata": {},
   "outputs": [
    {
     "name": "stdout",
     "output_type": "stream",
     "text": [
      "313/313 [==============================] - 5s 9ms/step\n"
     ]
    },
    {
     "data": {
      "text/plain": [
       "0.9813"
      ]
     },
     "execution_count": 12,
     "metadata": {},
     "output_type": "execute_result"
    }
   ],
   "source": [
    "predictions = np.argmax(model.predict(X_test), axis=-1)\n",
    "accuracy_score(y_test, predictions)"
   ]
  },
  {
   "cell_type": "code",
   "execution_count": 13,
   "id": "14439ae3",
   "metadata": {},
   "outputs": [
    {
     "data": {
      "text/plain": [
       "array([[ 971,    0,    1,    0,    1,    0,    2,    1,    3,    1],\n",
       "       [   0, 1126,    2,    1,    0,    1,    2,    1,    2,    0],\n",
       "       [   7,    0, 1013,    1,    1,    0,    2,    4,    4,    0],\n",
       "       [   0,    1,    2,  994,    0,    4,    0,    3,    2,    4],\n",
       "       [   2,    0,    1,    0,  970,    0,    1,    2,    1,    5],\n",
       "       [   2,    0,    0,   11,    1,  870,    5,    0,    2,    1],\n",
       "       [   8,    2,    3,    1,    4,    6,  934,    0,    0,    0],\n",
       "       [   0,    2,    9,    5,    0,    0,    0, 1005,    4,    3],\n",
       "       [   4,    0,    2,    8,    3,    1,    0,    2,  952,    2],\n",
       "       [   4,    4,    0,    5,    9,    2,    0,    6,    1,  978]],\n",
       "      dtype=int64)"
      ]
     },
     "execution_count": 13,
     "metadata": {},
     "output_type": "execute_result"
    }
   ],
   "source": [
    "from sklearn.metrics import classification_report,confusion_matrix\n",
    "from sklearn.metrics import confusion_matrix\n",
    "confusion =confusion_matrix(y_test, predictions)\n",
    "confusion\n"
   ]
  },
  {
   "cell_type": "code",
   "execution_count": 14,
   "id": "d268787a",
   "metadata": {},
   "outputs": [
    {
     "data": {
      "text/plain": [
       "<AxesSubplot:>"
      ]
     },
     "execution_count": 14,
     "metadata": {},
     "output_type": "execute_result"
    },
    {
     "data": {
      "image/png": "[encoded data removed]",
      "text/plain": [
       "<Figure size 432x288 with 2 Axes>"
      ]
     },
     "metadata": {
      "needs_background": "light"
     },
     "output_type": "display_data"
    }
   ],
   "source": [
    "import seaborn as sns\n",
    "sns.heatmap(confusion, annot=True, fmt='d')"
   ]
  },
  {
   "cell_type": "code",
   "execution_count": 15,
   "id": "442ca5e0",
   "metadata": {},
   "outputs": [
    {
     "name": "stdout",
     "output_type": "stream",
     "text": [
      "              precision    recall  f1-score   support\n",
      "\n",
      "           0       0.97      0.99      0.98       980\n",
      "           1       0.99      0.99      0.99      1135\n",
      "           2       0.98      0.98      0.98      1032\n",
      "           3       0.97      0.98      0.98      1010\n",
      "           4       0.98      0.99      0.98       982\n",
      "           5       0.98      0.98      0.98       892\n",
      "           6       0.99      0.97      0.98       958\n",
      "           7       0.98      0.98      0.98      1028\n",
      "           8       0.98      0.98      0.98       974\n",
      "           9       0.98      0.97      0.98      1009\n",
      "\n",
      "    accuracy                           0.98     10000\n",
      "   macro avg       0.98      0.98      0.98     10000\n",
      "weighted avg       0.98      0.98      0.98     10000\n",
      "\n"
     ]
    }
   ],
   "source": [
    "print(classification_report(y_test, predictions))"
   ]
  },
  {
   "cell_type": "code",
   "execution_count": 16,
   "id": "cbd1b46e",
   "metadata": {},
   "outputs": [
    {
     "data": {
      "text/plain": [
       "Text(0.5, 1.0, 'Accuracy Evaluation')"
      ]
     },
     "execution_count": 16,
     "metadata": {},
     "output_type": "execute_result"
    },
    {
     "data": {
      "image/png": "[encoded data removed]",
      "text/plain": [
       "<Figure size 432x288 with 1 Axes>"
      ]
     },
     "metadata": {
      "needs_background": "light"
     },
     "output_type": "display_data"
    }
   ],
   "source": [
    "plt.plot(history.history['accuracy'])\n",
    "plt.plot(history.history['val_accuracy'])\n",
    "plt.title('Accuracy Evaluation')"
   ]
  },
  {
   "cell_type": "code",
   "execution_count": 17,
   "id": "2574c92a",
   "metadata": {},
   "outputs": [
    {
     "data": {
      "text/plain": [
       "Text(0.5, 1.0, 'loss Evaluation')"
      ]
     },
     "execution_count": 17,
     "metadata": {},
     "output_type": "execute_result"
    },
    {
     "data": {
      "image/png": "[encoded data removed]",
      "text/plain": [
       "<Figure size 432x288 with 1 Axes>"
      ]
     },
     "metadata": {
      "needs_background": "light"
     },
     "output_type": "display_data"
    }
   ],
   "source": [
    "plt.plot(history.history['loss'])\n",
    "plt.plot(history.history['val_loss'])\n",
    "plt.title('loss Evaluation')"
   ]
  },
  {
   "cell_type": "code",
   "execution_count": 18,
   "id": "ad47ace7",
   "metadata": {},
   "outputs": [
    {
     "data": {
      "image/png": "[encoded data removed]",
      "text/plain": [
       "<Figure size 864x360 with 1 Axes>"
      ]
     },
     "metadata": {
      "needs_background": "light"
     },
     "output_type": "display_data"
    }
   ],
   "source": [
    "pd.DataFrame(history.history).plot(figsize=(12,5))\n",
    "plt.title('Evaluation',fontweight='bold')\n",
    "plt.xlabel('Epoch',fontweight='bold')\n",
    "plt.ylabel('Accuracy and Loss',fontweight='bold')\n",
    "plt.show()"
   ]
  },
  {
   "cell_type": "code",
   "execution_count": null,
   "id": "c9a001bf",
   "metadata": {},
   "outputs": [],
   "source": []
  },
  {
   "cell_type": "markdown",
   "id": "df2bbf47",
   "metadata": {},
   "source": [
    "### 2] Fashion_Mnist"
   ]
  },
  {
   "cell_type": "code",
   "execution_count": 19,
   "id": "722b4eb6",
   "metadata": {},
   "outputs": [
    {
     "data": {
      "text/plain": [
       "((60000, 28, 28), (10000, 28, 28), (60000,), (10000,))"
      ]
     },
     "execution_count": 19,
     "metadata": {},
     "output_type": "execute_result"
    }
   ],
   "source": [
    "\n",
    "(X_train, y_train), (X_test, y_test) =tf.keras.datasets.fashion_mnist.load_data() #split dataset into train and test\n",
    "X_train.shape,X_test.shape,y_train.shape,y_test.shape "
   ]
  },
  {
   "cell_type": "markdown",
   "id": "ec32af98",
   "metadata": {},
   "source": [
    "### DATA SCALING"
   ]
  },
  {
   "cell_type": "code",
   "execution_count": 20,
   "id": "09969b9e",
   "metadata": {},
   "outputs": [
    {
     "data": {
      "text/plain": [
       "(0, 255)"
      ]
     },
     "execution_count": 20,
     "metadata": {},
     "output_type": "execute_result"
    }
   ],
   "source": [
    "X_train[0].min(),X_train[0].max()"
   ]
  },
  {
   "cell_type": "code",
   "execution_count": 21,
   "id": "00d0ccfd",
   "metadata": {},
   "outputs": [
    {
     "data": {
      "text/plain": [
       "(0.0, 1.0)"
      ]
     },
     "execution_count": 21,
     "metadata": {},
     "output_type": "execute_result"
    }
   ],
   "source": [
    "#scaled_value = (original_value – min) / (max – min)\n",
    "X_train = (X_train - 0) / (255 - 0)\n",
    "X_test = (X_test - 0) / (255 - 0)\n",
    "X_train[0].min(), X_train[0].max()"
   ]
  },
  {
   "cell_type": "code",
   "execution_count": 22,
   "id": "f13d7303",
   "metadata": {},
   "outputs": [
    {
     "data": {
      "image/png": "[encoded data removed]",
      "text/plain": [
       "<Figure size 1152x720 with 20 Axes>"
      ]
     },
     "metadata": {},
     "output_type": "display_data"
    }
   ],
   "source": [
    "def plot_digit(image, digit, plt, i):\n",
    "    plt.subplot(4, 5, i + 1)\n",
    "    plt.imshow(image, cmap=plt.get_cmap('gray'))\n",
    "    plt.title(f\"Digit: {digit}\")\n",
    "    plt.xticks([])\n",
    "    plt.yticks([])\n",
    "\n",
    "\n",
    "plt.figure(figsize=(16, 10))\n",
    "for i in range(20):\n",
    "    plot_digit(X_train[i], y_train[i], plt, i)\n",
    "    \n",
    "plt.show()"
   ]
  },
  {
   "cell_type": "markdown",
   "id": "4013d4ce",
   "metadata": {},
   "source": [
    "***There are ten categories to classify in the fashion_mnist dataset:***<br>\n",
    "**1**--T-shirt/top \n",
    "**2**--Pullover\n",
    "**3**--Dress\n",
    "**4**--Coat\n",
    "**5**--Sandal\n",
    "**6**--Shirt\n",
    "**7**--Sneaker\n",
    "**8**--Bag\n",
    "**9**--Ankle boot"
   ]
  },
  {
   "cell_type": "code",
   "execution_count": 23,
   "id": "ac30aa4e",
   "metadata": {},
   "outputs": [
    {
     "data": {
      "text/plain": [
       "(60000, 28, 28)"
      ]
     },
     "execution_count": 23,
     "metadata": {},
     "output_type": "execute_result"
    }
   ],
   "source": [
    "X_train.shape"
   ]
  },
  {
   "cell_type": "code",
   "execution_count": 24,
   "id": "475cd0f4",
   "metadata": {},
   "outputs": [
    {
     "data": {
      "text/plain": [
       "(60000, 28, 28, 1)"
      ]
     },
     "execution_count": 24,
     "metadata": {},
     "output_type": "execute_result"
    }
   ],
   "source": [
    "#reshape() function to reshape all of the data by adding that extra dimension.\n",
    "X_train = X_train.reshape((X_train.shape + (1,)))\n",
    "X_test = X_test.reshape((X_test.shape + (1,)))\n",
    "X_train.shape"
   ]
  },
  {
   "cell_type": "code",
   "execution_count": 25,
   "id": "700cb0a9",
   "metadata": {},
   "outputs": [
    {
     "data": {
      "text/plain": [
       "array([9, 0, 0, 3, 0, 2, 7, 2, 5, 5, 0, 9, 5, 5, 7, 9, 1, 0, 6, 4],\n",
       "      dtype=uint8)"
      ]
     },
     "execution_count": 25,
     "metadata": {},
     "output_type": "execute_result"
    }
   ],
   "source": [
    "#let's take a look at the format of our target values (y_train)\n",
    "y_train[0:20]"
   ]
  },
  {
   "cell_type": "markdown",
   "id": "2e169779",
   "metadata": {},
   "source": [
    "### Define Model2"
   ]
  },
  {
   "cell_type": "code",
   "execution_count": 26,
   "id": "990a6ee3",
   "metadata": {},
   "outputs": [],
   "source": [
    "model2 = Sequential([\n",
    "    Conv2D(32, (3, 3), activation=\"relu\", input_shape=(28, 28, 1)),\n",
    "    MaxPooling2D((2, 2)),\n",
    "    Flatten(),\n",
    "    Dense(100, activation=\"relu\"),\n",
    "    Dense(10, activation=\"softmax\")\n",
    "])"
   ]
  },
  {
   "cell_type": "markdown",
   "id": "dd37907f",
   "metadata": {},
   "source": [
    "### Compile "
   ]
  },
  {
   "cell_type": "code",
   "execution_count": 27,
   "id": "5a91fd11",
   "metadata": {},
   "outputs": [
    {
     "name": "stdout",
     "output_type": "stream",
     "text": [
      "Model: \"sequential\"\n",
      "_________________________________________________________________\n",
      " Layer (type)                Output Shape              Param #   \n",
      "=================================================================\n",
      " conv2d (Conv2D)             (None, 26, 26, 32)        320       \n",
      "                                                                 \n",
      " max_pooling2d (MaxPooling2D  (None, 13, 13, 32)       0         \n",
      " )                                                               \n",
      "                                                                 \n",
      " flatten (Flatten)           (None, 5408)              0         \n",
      "                                                                 \n",
      " dense (Dense)               (None, 100)               540900    \n",
      "                                                                 \n",
      " dense_1 (Dense)             (None, 10)                1010      \n",
      "                                                                 \n",
      "=================================================================\n",
      "Total params: 542,230\n",
      "Trainable params: 542,230\n",
      "Non-trainable params: 0\n",
      "_________________________________________________________________\n"
     ]
    }
   ],
   "source": [
    "model2.compile(\n",
    "    optimizer='sgd', \n",
    "    loss=\"sparse_categorical_crossentropy\", \n",
    "    metrics=[\"accuracy\"]\n",
    ")\n",
    "model.summary()"
   ]
  },
  {
   "cell_type": "markdown",
   "id": "20baaa4d",
   "metadata": {},
   "source": [
    "### Fit the model"
   ]
  },
  {
   "cell_type": "code",
   "execution_count": 28,
   "id": "60971055",
   "metadata": {},
   "outputs": [
    {
     "name": "stdout",
     "output_type": "stream",
     "text": [
      "Epoch 1/10\n",
      "1500/1500 [==============================] - 47s 30ms/step - loss: 0.7488 - accuracy: 0.7393 - val_loss: 0.5498 - val_accuracy: 0.7880\n",
      "Epoch 2/10\n",
      "1500/1500 [==============================] - 41s 28ms/step - loss: 0.5126 - accuracy: 0.8161 - val_loss: 0.4676 - val_accuracy: 0.8336\n",
      "Epoch 3/10\n",
      "1500/1500 [==============================] - 40s 26ms/step - loss: 0.4580 - accuracy: 0.8364 - val_loss: 0.4323 - val_accuracy: 0.8485\n",
      "Epoch 4/10\n",
      "1500/1500 [==============================] - 33s 22ms/step - loss: 0.4236 - accuracy: 0.8497 - val_loss: 0.4331 - val_accuracy: 0.8478\n",
      "Epoch 5/10\n",
      "1500/1500 [==============================] - 19s 13ms/step - loss: 0.3967 - accuracy: 0.8593 - val_loss: 0.3880 - val_accuracy: 0.8652\n",
      "Epoch 6/10\n",
      "1500/1500 [==============================] - 19s 13ms/step - loss: 0.3727 - accuracy: 0.8677 - val_loss: 0.3890 - val_accuracy: 0.8583\n",
      "Epoch 7/10\n",
      "1500/1500 [==============================] - 38s 25ms/step - loss: 0.3540 - accuracy: 0.8732 - val_loss: 0.3516 - val_accuracy: 0.8738\n",
      "Epoch 8/10\n",
      "1500/1500 [==============================] - 50s 33ms/step - loss: 0.3383 - accuracy: 0.8788 - val_loss: 0.3517 - val_accuracy: 0.8756\n",
      "Epoch 9/10\n",
      "1500/1500 [==============================] - 50s 34ms/step - loss: 0.3258 - accuracy: 0.8835 - val_loss: 0.3578 - val_accuracy: 0.8723\n",
      "Epoch 10/10\n",
      "1500/1500 [==============================] - 48s 32ms/step - loss: 0.3138 - accuracy: 0.8873 - val_loss: 0.3301 - val_accuracy: 0.8804\n"
     ]
    }
   ],
   "source": [
    "from tensorflow.keras.callbacks import EarlyStopping\n",
    "callbacks2=[EarlyStopping(monitor='val_accuracy',patience=3)]\n",
    "history2=model2.fit(X_train, y_train,epochs=10,batch_size=32,validation_split=0.2,callbacks=callbacks2)"
   ]
  },
  {
   "cell_type": "markdown",
   "id": "16752732",
   "metadata": {},
   "source": [
    "### Evaluation"
   ]
  },
  {
   "cell_type": "code",
   "execution_count": 29,
   "id": "80980fe0",
   "metadata": {},
   "outputs": [
    {
     "name": "stdout",
     "output_type": "stream",
     "text": [
      "313/313 [==============================] - 5s 14ms/step\n"
     ]
    },
    {
     "data": {
      "text/plain": [
       "0.8765"
      ]
     },
     "execution_count": 29,
     "metadata": {},
     "output_type": "execute_result"
    }
   ],
   "source": [
    "predictions2 = np.argmax(model2.predict(X_test), axis=-1)\n",
    "accuracy_score(y_test, predictions2)"
   ]
  },
  {
   "cell_type": "code",
   "execution_count": 30,
   "id": "0c44ec25",
   "metadata": {},
   "outputs": [
    {
     "data": {
      "text/plain": [
       "array([[801,   0,  15,  22,   3,   1, 151,   0,   7,   0],\n",
       "       [  3, 961,   2,  25,   3,   0,   4,   0,   2,   0],\n",
       "       [ 12,   1, 858,  14,  61,   1,  49,   0,   4,   0],\n",
       "       [ 26,   6,   8, 893,  23,   0,  40,   0,   4,   0],\n",
       "       [  0,   1, 129,  33, 763,   0,  71,   0,   3,   0],\n",
       "       [  0,   0,   0,   2,   0, 934,   0,  42,   4,  18],\n",
       "       [100,   0, 102,  26,  76,   0, 681,   0,  15,   0],\n",
       "       [  0,   0,   0,   0,   0,  14,   0, 947,   0,  39],\n",
       "       [  4,   1,   6,   8,   3,   1,   7,   6, 964,   0],\n",
       "       [  0,   0,   0,   0,   0,   3,   0,  33,   1, 963]], dtype=int64)"
      ]
     },
     "execution_count": 30,
     "metadata": {},
     "output_type": "execute_result"
    }
   ],
   "source": [
    "from sklearn.metrics import classification_report,confusion_matrix\n",
    "from sklearn.metrics import confusion_matrix\n",
    "confusion_matrix=confusion_matrix(y_test, predictions2)\n",
    "confusion_matrix"
   ]
  },
  {
   "cell_type": "code",
   "execution_count": 31,
   "id": "d75170b9",
   "metadata": {},
   "outputs": [
    {
     "data": {
      "text/plain": [
       "<AxesSubplot:>"
      ]
     },
     "execution_count": 31,
     "metadata": {},
     "output_type": "execute_result"
    },
    {
     "data": {
      "image/png": "[encoded data removed]",
      "text/plain": [
       "<Figure size 432x288 with 2 Axes>"
      ]
     },
     "metadata": {
      "needs_background": "light"
     },
     "output_type": "display_data"
    }
   ],
   "source": [
    "import seaborn as sns\n",
    "sns.heatmap(confusion_matrix, annot=True, fmt='d')"
   ]
  },
  {
   "cell_type": "code",
   "execution_count": 32,
   "id": "07d17ccb",
   "metadata": {},
   "outputs": [
    {
     "name": "stdout",
     "output_type": "stream",
     "text": [
      "              precision    recall  f1-score   support\n",
      "\n",
      "           0       0.85      0.80      0.82      1000\n",
      "           1       0.99      0.96      0.98      1000\n",
      "           2       0.77      0.86      0.81      1000\n",
      "           3       0.87      0.89      0.88      1000\n",
      "           4       0.82      0.76      0.79      1000\n",
      "           5       0.98      0.93      0.96      1000\n",
      "           6       0.68      0.68      0.68      1000\n",
      "           7       0.92      0.95      0.93      1000\n",
      "           8       0.96      0.96      0.96      1000\n",
      "           9       0.94      0.96      0.95      1000\n",
      "\n",
      "    accuracy                           0.88     10000\n",
      "   macro avg       0.88      0.88      0.88     10000\n",
      "weighted avg       0.88      0.88      0.88     10000\n",
      "\n"
     ]
    }
   ],
   "source": [
    "print(classification_report(y_test, predictions2))\n"
   ]
  },
  {
   "cell_type": "code",
   "execution_count": 33,
   "id": "b8c2b97f",
   "metadata": {},
   "outputs": [
    {
     "data": {
      "text/plain": [
       "Text(0.5, 1.0, 'Accuracy Evaluation')"
      ]
     },
     "execution_count": 33,
     "metadata": {},
     "output_type": "execute_result"
    },
    {
     "data": {
      "image/png": "[encoded data removed]",
      "text/plain": [
       "<Figure size 432x288 with 1 Axes>"
      ]
     },
     "metadata": {
      "needs_background": "light"
     },
     "output_type": "display_data"
    }
   ],
   "source": [
    "plt.plot(history2.history['accuracy'])\n",
    "plt.plot(history2.history['val_accuracy'])\n",
    "plt.title('Accuracy Evaluation')"
   ]
  },
  {
   "cell_type": "code",
   "execution_count": 34,
   "id": "ced94660",
   "metadata": {},
   "outputs": [
    {
     "data": {
      "text/plain": [
       "Text(0.5, 1.0, 'loss Evaluation')"
      ]
     },
     "execution_count": 34,
     "metadata": {},
     "output_type": "execute_result"
    },
    {
     "data": {
      "image/png": "[encoded data removed]",
      "text/plain": [
       "<Figure size 432x288 with 1 Axes>"
      ]
     },
     "metadata": {
      "needs_background": "light"
     },
     "output_type": "display_data"
    }
   ],
   "source": [
    "plt.plot(history2.history['loss'])\n",
    "plt.plot(history2.history['val_loss'])\n",
    "plt.title('loss Evaluation')"
   ]
  },
  {
   "cell_type": "code",
   "execution_count": 35,
   "id": "9e224f4b",
   "metadata": {},
   "outputs": [
    {
     "data": {
      "image/png": "[encoded data removed]",
      "text/plain": [
       "<Figure size 864x360 with 1 Axes>"
      ]
     },
     "metadata": {
      "needs_background": "light"
     },
     "output_type": "display_data"
    }
   ],
   "source": [
    "pd.DataFrame(history2.history).plot(figsize=(12,5))\n",
    "plt.title('Evaluation',fontweight='bold')\n",
    "plt.xlabel('Epoch',fontweight='bold')\n",
    "plt.ylabel('Accuracy and Loss',fontweight='bold')\n",
    "plt.show()"
   ]
  },
  {
   "cell_type": "code",
   "execution_count": null,
   "id": "d07b0b80",
   "metadata": {},
   "outputs": [],
   "source": []
  },
  {
   "cell_type": "markdown",
   "id": "ff0b7079",
   "metadata": {},
   "source": [
    "### 3] ASL (American Sign Language)\n"
   ]
  },
  {
   "cell_type": "code",
   "execution_count": 36,
   "id": "c602ca87",
   "metadata": {},
   "outputs": [],
   "source": [
    "import pandas as pd\n",
    "import numpy as np\n",
    "import matplotlib.pyplot as plt\n",
    "import seaborn as sns"
   ]
  },
  {
   "cell_type": "code",
   "execution_count": 37,
   "id": "f5ed15e0",
   "metadata": {},
   "outputs": [],
   "source": [
    "# get our training and testing dataset\n",
    "train = pd.read_csv('sign_mnist_train.csv')\n",
    "test = pd.read_csv('sign_mnist_test.csv')"
   ]
  },
  {
   "cell_type": "code",
   "execution_count": 38,
   "id": "dedd1d05",
   "metadata": {},
   "outputs": [
    {
     "data": {
      "text/html": [
       "<div>\n",
       "<style scoped>\n",
       "    .dataframe tbody tr th:only-of-type {\n",
       "        vertical-align: middle;\n",
       "    }\n",
       "\n",
       "    .dataframe tbody tr th {\n",
       "        vertical-align: top;\n",
       "    }\n",
       "\n",
       "    .dataframe thead th {\n",
       "        text-align: right;\n",
       "    }\n",
       "</style>\n",
       "<table border=\"1\" class=\"dataframe\">\n",
       "  <thead>\n",
       "    <tr style=\"text-align: right;\">\n",
       "      <th></th>\n",
       "      <th>label</th>\n",
       "      <th>pixel1</th>\n",
       "      <th>pixel2</th>\n",
       "      <th>pixel3</th>\n",
       "      <th>pixel4</th>\n",
       "      <th>pixel5</th>\n",
       "      <th>pixel6</th>\n",
       "      <th>pixel7</th>\n",
       "      <th>pixel8</th>\n",
       "      <th>pixel9</th>\n",
       "      <th>...</th>\n",
       "      <th>pixel775</th>\n",
       "      <th>pixel776</th>\n",
       "      <th>pixel777</th>\n",
       "      <th>pixel778</th>\n",
       "      <th>pixel779</th>\n",
       "      <th>pixel780</th>\n",
       "      <th>pixel781</th>\n",
       "      <th>pixel782</th>\n",
       "      <th>pixel783</th>\n",
       "      <th>pixel784</th>\n",
       "    </tr>\n",
       "  </thead>\n",
       "  <tbody>\n",
       "    <tr>\n",
       "      <th>0</th>\n",
       "      <td>3</td>\n",
       "      <td>107</td>\n",
       "      <td>118</td>\n",
       "      <td>127</td>\n",
       "      <td>134</td>\n",
       "      <td>139</td>\n",
       "      <td>143</td>\n",
       "      <td>146</td>\n",
       "      <td>150</td>\n",
       "      <td>153</td>\n",
       "      <td>...</td>\n",
       "      <td>207</td>\n",
       "      <td>207</td>\n",
       "      <td>207</td>\n",
       "      <td>207</td>\n",
       "      <td>206</td>\n",
       "      <td>206</td>\n",
       "      <td>206</td>\n",
       "      <td>204</td>\n",
       "      <td>203</td>\n",
       "      <td>202</td>\n",
       "    </tr>\n",
       "    <tr>\n",
       "      <th>1</th>\n",
       "      <td>6</td>\n",
       "      <td>155</td>\n",
       "      <td>157</td>\n",
       "      <td>156</td>\n",
       "      <td>156</td>\n",
       "      <td>156</td>\n",
       "      <td>157</td>\n",
       "      <td>156</td>\n",
       "      <td>158</td>\n",
       "      <td>158</td>\n",
       "      <td>...</td>\n",
       "      <td>69</td>\n",
       "      <td>149</td>\n",
       "      <td>128</td>\n",
       "      <td>87</td>\n",
       "      <td>94</td>\n",
       "      <td>163</td>\n",
       "      <td>175</td>\n",
       "      <td>103</td>\n",
       "      <td>135</td>\n",
       "      <td>149</td>\n",
       "    </tr>\n",
       "    <tr>\n",
       "      <th>2</th>\n",
       "      <td>2</td>\n",
       "      <td>187</td>\n",
       "      <td>188</td>\n",
       "      <td>188</td>\n",
       "      <td>187</td>\n",
       "      <td>187</td>\n",
       "      <td>186</td>\n",
       "      <td>187</td>\n",
       "      <td>188</td>\n",
       "      <td>187</td>\n",
       "      <td>...</td>\n",
       "      <td>202</td>\n",
       "      <td>201</td>\n",
       "      <td>200</td>\n",
       "      <td>199</td>\n",
       "      <td>198</td>\n",
       "      <td>199</td>\n",
       "      <td>198</td>\n",
       "      <td>195</td>\n",
       "      <td>194</td>\n",
       "      <td>195</td>\n",
       "    </tr>\n",
       "    <tr>\n",
       "      <th>3</th>\n",
       "      <td>2</td>\n",
       "      <td>211</td>\n",
       "      <td>211</td>\n",
       "      <td>212</td>\n",
       "      <td>212</td>\n",
       "      <td>211</td>\n",
       "      <td>210</td>\n",
       "      <td>211</td>\n",
       "      <td>210</td>\n",
       "      <td>210</td>\n",
       "      <td>...</td>\n",
       "      <td>235</td>\n",
       "      <td>234</td>\n",
       "      <td>233</td>\n",
       "      <td>231</td>\n",
       "      <td>230</td>\n",
       "      <td>226</td>\n",
       "      <td>225</td>\n",
       "      <td>222</td>\n",
       "      <td>229</td>\n",
       "      <td>163</td>\n",
       "    </tr>\n",
       "    <tr>\n",
       "      <th>4</th>\n",
       "      <td>13</td>\n",
       "      <td>164</td>\n",
       "      <td>167</td>\n",
       "      <td>170</td>\n",
       "      <td>172</td>\n",
       "      <td>176</td>\n",
       "      <td>179</td>\n",
       "      <td>180</td>\n",
       "      <td>184</td>\n",
       "      <td>185</td>\n",
       "      <td>...</td>\n",
       "      <td>92</td>\n",
       "      <td>105</td>\n",
       "      <td>105</td>\n",
       "      <td>108</td>\n",
       "      <td>133</td>\n",
       "      <td>163</td>\n",
       "      <td>157</td>\n",
       "      <td>163</td>\n",
       "      <td>164</td>\n",
       "      <td>179</td>\n",
       "    </tr>\n",
       "  </tbody>\n",
       "</table>\n",
       "<p>5 rows × 785 columns</p>\n",
       "</div>"
      ],
      "text/plain": [
       "   label  pixel1  pixel2  pixel3  pixel4  pixel5  pixel6  pixel7  pixel8  \\\n",
       "0      3     107     118     127     134     139     143     146     150   \n",
       "1      6     155     157     156     156     156     157     156     158   \n",
       "2      2     187     188     188     187     187     186     187     188   \n",
       "3      2     211     211     212     212     211     210     211     210   \n",
       "4     13     164     167     170     172     176     179     180     184   \n",
       "\n",
       "   pixel9  ...  pixel775  pixel776  pixel777  pixel778  pixel779  pixel780  \\\n",
       "0     153  ...       207       207       207       207       206       206   \n",
       "1     158  ...        69       149       128        87        94       163   \n",
       "2     187  ...       202       201       200       199       198       199   \n",
       "3     210  ...       235       234       233       231       230       226   \n",
       "4     185  ...        92       105       105       108       133       163   \n",
       "\n",
       "   pixel781  pixel782  pixel783  pixel784  \n",
       "0       206       204       203       202  \n",
       "1       175       103       135       149  \n",
       "2       198       195       194       195  \n",
       "3       225       222       229       163  \n",
       "4       157       163       164       179  \n",
       "\n",
       "[5 rows x 785 columns]"
      ]
     },
     "execution_count": 38,
     "metadata": {},
     "output_type": "execute_result"
    }
   ],
   "source": [
    "train.head()"
   ]
  },
  {
   "cell_type": "code",
   "execution_count": 39,
   "id": "55cbdc90",
   "metadata": {},
   "outputs": [],
   "source": [
    "# get training the labels\n",
    "labels = train['label'].values"
   ]
  },
  {
   "cell_type": "code",
   "execution_count": 40,
   "id": "17f91639",
   "metadata": {},
   "outputs": [
    {
     "data": {
      "text/plain": [
       "array([ 0,  1,  2,  3,  4,  5,  6,  7,  8, 10, 11, 12, 13, 14, 15, 16, 17,\n",
       "       18, 19, 20, 21, 22, 23, 24], dtype=int64)"
      ]
     },
     "execution_count": 40,
     "metadata": {},
     "output_type": "execute_result"
    }
   ],
   "source": [
    "# view the unique labels, 24 in target\n",
    "unique_val = np.array(labels)\n",
    "np.unique(unique_val)"
   ]
  },
  {
   "cell_type": "code",
   "execution_count": 41,
   "id": "1e9aa7f1",
   "metadata": {},
   "outputs": [
    {
     "data": {
      "text/plain": [
       "<AxesSubplot:ylabel='count'>"
      ]
     },
     "execution_count": 41,
     "metadata": {},
     "output_type": "execute_result"
    },
    {
     "data": {
      "image/png": "[encoded data removed]",
      "text/plain": [
       "<Figure size 1296x576 with 1 Axes>"
      ]
     },
     "metadata": {
      "needs_background": "light"
     },
     "output_type": "display_data"
    }
   ],
   "source": [
    "# plot the quantites in each class\n",
    "plt.figure(figsize = (18,8))\n",
    "sns.countplot(x=labels)"
   ]
  },
  {
   "cell_type": "code",
   "execution_count": 42,
   "id": "02ed85c3",
   "metadata": {},
   "outputs": [],
   "source": [
    "# drop the training labels from our training data so we can seaperate it\n",
    "train.drop('label',axis = 1, inplace=True)"
   ]
  },
  {
   "cell_type": "code",
   "execution_count": 43,
   "id": "7e46fcb1",
   "metadata": {},
   "outputs": [],
   "source": [
    "# extract the image data from each row in our csv, remeber its is a row784 column\n",
    "image = train.values\n",
    "image = np.array([np.reshape(i,(28,28)) for i in image])\n",
    "image = np.array([i.flatten() for i in image])"
   ]
  },
  {
   "cell_type": "code",
   "execution_count": 44,
   "id": "19f17588",
   "metadata": {},
   "outputs": [],
   "source": [
    "# labelencoder\n",
    "from sklearn.preprocessing import LabelBinarizer\n",
    "label_binrizer = LabelBinarizer()\n",
    "labels = label_binrizer.fit_transform(labels)"
   ]
  },
  {
   "cell_type": "code",
   "execution_count": 45,
   "id": "136b330f",
   "metadata": {},
   "outputs": [
    {
     "data": {
      "text/plain": [
       "array([[0, 0, 0, ..., 0, 0, 0],\n",
       "       [0, 0, 0, ..., 0, 0, 0],\n",
       "       [0, 0, 1, ..., 0, 0, 0],\n",
       "       ...,\n",
       "       [0, 0, 0, ..., 0, 0, 0],\n",
       "       [0, 0, 0, ..., 0, 0, 0],\n",
       "       [0, 0, 0, ..., 0, 1, 0]])"
      ]
     },
     "execution_count": 45,
     "metadata": {},
     "output_type": "execute_result"
    }
   ],
   "source": [
    "# view our label\n",
    "labels\n",
    "#len(labels[0])"
   ]
  },
  {
   "cell_type": "code",
   "execution_count": 46,
   "id": "5cee49cc",
   "metadata": {},
   "outputs": [
    {
     "name": "stdout",
     "output_type": "stream",
     "text": [
      "[0 0 0 0 0 0 0 0 0 0 0 0 0 0 0 1 0 0 0 0 0 0 0 0]\n"
     ]
    },
    {
     "data": {
      "text/plain": [
       "<matplotlib.image.AxesImage at 0x1c7c64742b0>"
      ]
     },
     "execution_count": 46,
     "metadata": {},
     "output_type": "execute_result"
    },
    {
     "data": {
      "image/png": "[encoded data removed]",
      "text/plain": [
       "<Figure size 432x288 with 1 Axes>"
      ]
     },
     "metadata": {
      "needs_background": "light"
     },
     "output_type": "display_data"
    }
   ],
   "source": [
    "# inspect the image\n",
    "index=5\n",
    "print(labels[index])\n",
    "plt.imshow(image[index].reshape(28,28))"
   ]
  },
  {
   "cell_type": "code",
   "execution_count": 47,
   "id": "130aa615",
   "metadata": {},
   "outputs": [],
   "source": [
    "from sklearn.model_selection import train_test_split\n",
    "x_train, x_test, y_train, y_test = train_test_split(image, labels, test_size = 0.3, random_state=101)"
   ]
  },
  {
   "cell_type": "code",
   "execution_count": 48,
   "id": "39424770",
   "metadata": {},
   "outputs": [],
   "source": [
    "from tensorflow.keras.models import Sequential\n",
    "from tensorflow.keras.layers import Dense, Conv2D, MaxPooling2D, Flatten, Dropout\n",
    "batch_size=128\n",
    "num_classes=24\n",
    "epochs=10\n"
   ]
  },
  {
   "cell_type": "code",
   "execution_count": 49,
   "id": "7a297711",
   "metadata": {},
   "outputs": [],
   "source": [
    "#scale images\n",
    "x_train = x_train/255\n",
    "x_test = x_test/255"
   ]
  },
  {
   "cell_type": "code",
   "execution_count": 50,
   "id": "6516c9ec",
   "metadata": {},
   "outputs": [
    {
     "data": {
      "text/plain": [
       "<matplotlib.image.AxesImage at 0x1c7c9d431f0>"
      ]
     },
     "execution_count": 50,
     "metadata": {},
     "output_type": "execute_result"
    },
    {
     "data": {
      "image/png": "[encoded data removed]",
      "text/plain": [
       "<Figure size 432x288 with 1 Axes>"
      ]
     },
     "metadata": {
      "needs_background": "light"
     },
     "output_type": "display_data"
    }
   ],
   "source": [
    "#reshape them into ize required by TF and Keras\n",
    "x_train=x_train.reshape(x_train.shape[0],28,28,1)\n",
    "x_test=x_test.reshape(x_test.shape[0],28,28,1)\n",
    "plt.imshow(x_train[0].reshape(28,28))"
   ]
  },
  {
   "cell_type": "code",
   "execution_count": 51,
   "id": "f89c079d",
   "metadata": {},
   "outputs": [],
   "source": [
    "# define the model\n",
    "from tensorflow.keras import backend as k\n",
    "model = Sequential()\n",
    "model.add(Conv2D(64,kernel_size=(3,3),activation='relu',input_shape=(28,28,1)))\n",
    "model.add(MaxPooling2D((2,2)))\n",
    "\n",
    "model.add(Conv2D(64,kernel_size=(3,3),activation='relu'))\n",
    "model.add(MaxPooling2D((2,2)))\n",
    "\n",
    "model.add(Conv2D(64,kernel_size=(3,3),activation='relu'))\n",
    "model.add(MaxPooling2D((2,2)))\n",
    "\n",
    "model.add(Flatten())\n",
    "model.add(Dense(500, activation='relu'))\n",
    "model.add(Dropout(0.20))\n",
    "\n",
    "model.add(Dense(num_classes, activation='softmax'))\n"
   ]
  },
  {
   "cell_type": "code",
   "execution_count": 52,
   "id": "e8ce8cc1",
   "metadata": {},
   "outputs": [
    {
     "name": "stdout",
     "output_type": "stream",
     "text": [
      "Model: \"sequential_2\"\n",
      "_________________________________________________________________\n",
      " Layer (type)                Output Shape              Param #   \n",
      "=================================================================\n",
      " conv2d_2 (Conv2D)           (None, 26, 26, 64)        640       \n",
      "                                                                 \n",
      " max_pooling2d_2 (MaxPooling  (None, 13, 13, 64)       0         \n",
      " 2D)                                                             \n",
      "                                                                 \n",
      " conv2d_3 (Conv2D)           (None, 11, 11, 64)        36928     \n",
      "                                                                 \n",
      " max_pooling2d_3 (MaxPooling  (None, 5, 5, 64)         0         \n",
      " 2D)                                                             \n",
      "                                                                 \n",
      " conv2d_4 (Conv2D)           (None, 3, 3, 64)          36928     \n",
      "                                                                 \n",
      " max_pooling2d_4 (MaxPooling  (None, 1, 1, 64)         0         \n",
      " 2D)                                                             \n",
      "                                                                 \n",
      " flatten_2 (Flatten)         (None, 64)                0         \n",
      "                                                                 \n",
      " dense_4 (Dense)             (None, 500)               32500     \n",
      "                                                                 \n",
      " dropout (Dropout)           (None, 500)               0         \n",
      "                                                                 \n",
      " dense_5 (Dense)             (None, 24)                12024     \n",
      "                                                                 \n",
      "=================================================================\n",
      "Total params: 119,020\n",
      "Trainable params: 119,020\n",
      "Non-trainable params: 0\n",
      "_________________________________________________________________\n"
     ]
    }
   ],
   "source": [
    "model.summary()"
   ]
  },
  {
   "cell_type": "code",
   "execution_count": 53,
   "id": "81522e64",
   "metadata": {},
   "outputs": [],
   "source": [
    "# compile model\n",
    "model.compile(optimizer='Adam',loss='categorical_crossentropy',metrics=['accuracy'])"
   ]
  },
  {
   "cell_type": "code",
   "execution_count": 54,
   "id": "ce30ebbc",
   "metadata": {},
   "outputs": [
    {
     "name": "stdout",
     "output_type": "stream",
     "text": [
      "Epoch 1/10\n",
      "121/121 [==============================] - 35s 255ms/step - loss: 2.7177 - accuracy: 0.1747 - val_loss: 1.9007 - val_accuracy: 0.3923\n",
      "Epoch 2/10\n",
      "121/121 [==============================] - 26s 218ms/step - loss: 1.4142 - accuracy: 0.5328 - val_loss: 0.9790 - val_accuracy: 0.6777\n",
      "Epoch 3/10\n",
      "121/121 [==============================] - 29s 238ms/step - loss: 0.8524 - accuracy: 0.7124 - val_loss: 0.6753 - val_accuracy: 0.7846\n",
      "Epoch 4/10\n",
      "121/121 [==============================] - 26s 216ms/step - loss: 0.5753 - accuracy: 0.8099 - val_loss: 0.4829 - val_accuracy: 0.8481\n",
      "Epoch 5/10\n",
      "121/121 [==============================] - 29s 237ms/step - loss: 0.3926 - accuracy: 0.8694 - val_loss: 0.3169 - val_accuracy: 0.8970\n",
      "Epoch 6/10\n",
      "121/121 [==============================] - 27s 226ms/step - loss: 0.2781 - accuracy: 0.9087 - val_loss: 0.2283 - val_accuracy: 0.9279\n",
      "Epoch 7/10\n",
      "121/121 [==============================] - 26s 219ms/step - loss: 0.2048 - accuracy: 0.9365 - val_loss: 0.1776 - val_accuracy: 0.9477\n",
      "Epoch 8/10\n",
      "121/121 [==============================] - 27s 224ms/step - loss: 0.1512 - accuracy: 0.9535 - val_loss: 0.1157 - val_accuracy: 0.9693\n",
      "Epoch 9/10\n",
      "121/121 [==============================] - 27s 226ms/step - loss: 0.1214 - accuracy: 0.9636 - val_loss: 0.0934 - val_accuracy: 0.9737\n",
      "Epoch 10/10\n",
      "121/121 [==============================] - 23s 190ms/step - loss: 0.0776 - accuracy: 0.9785 - val_loss: 0.0797 - val_accuracy: 0.9784\n"
     ]
    }
   ],
   "source": [
    "# train the model\n",
    "history = model.fit(x_train,y_train,batch_size=batch_size,epochs=10,verbose=1,validation_split=0.2)"
   ]
  },
  {
   "cell_type": "code",
   "execution_count": 55,
   "id": "9b108162",
   "metadata": {},
   "outputs": [],
   "source": [
    "loss, accuracy = model.evaluate(x_test, y_test, verbose=0)"
   ]
  },
  {
   "cell_type": "code",
   "execution_count": 56,
   "id": "917af400",
   "metadata": {},
   "outputs": [
    {
     "name": "stdout",
     "output_type": "stream",
     "text": [
      "accuracy: 97.96042442321777\n"
     ]
    }
   ],
   "source": [
    "print(f'accuracy: {accuracy*100}')"
   ]
  },
  {
   "cell_type": "code",
   "execution_count": 57,
   "id": "d8f914ea",
   "metadata": {},
   "outputs": [
    {
     "data": {
      "text/plain": [
       "[<matplotlib.lines.Line2D at 0x1c79e5d2d90>]"
      ]
     },
     "execution_count": 57,
     "metadata": {},
     "output_type": "execute_result"
    },
    {
     "data": {
      "image/png": "[encoded data removed]",
      "text/plain": [
       "<Figure size 432x288 with 1 Axes>"
      ]
     },
     "metadata": {
      "needs_background": "light"
     },
     "output_type": "display_data"
    }
   ],
   "source": [
    "plt.plot(history.history['loss'])\n",
    "plt.plot(history.history['val_loss'])"
   ]
  },
  {
   "cell_type": "code",
   "execution_count": 58,
   "id": "c51072d6",
   "metadata": {},
   "outputs": [
    {
     "data": {
      "text/plain": [
       "[<matplotlib.lines.Line2D at 0x1c79e6222b0>]"
      ]
     },
     "execution_count": 58,
     "metadata": {},
     "output_type": "execute_result"
    },
    {
     "data": {
      "image/png": "[encoded data removed]",
      "text/plain": [
       "<Figure size 432x288 with 1 Axes>"
      ]
     },
     "metadata": {
      "needs_background": "light"
     },
     "output_type": "display_data"
    }
   ],
   "source": [
    "plt.plot(history.history['accuracy'])\n",
    "plt.plot(history.history['val_accuracy'])"
   ]
  },
  {
   "cell_type": "code",
   "execution_count": 59,
   "id": "ca122a10",
   "metadata": {},
   "outputs": [
    {
     "name": "stdout",
     "output_type": "stream",
     "text": [
      "258/258 [==============================] - 5s 18ms/step\n"
     ]
    }
   ],
   "source": [
    "y_pred = model.predict(x_test)"
   ]
  },
  {
   "cell_type": "code",
   "execution_count": null,
   "id": "81d6d628",
   "metadata": {},
   "outputs": [],
   "source": []
  },
  {
   "cell_type": "code",
   "execution_count": null,
   "id": "fe709be4",
   "metadata": {},
   "outputs": [],
   "source": []
  }
 ],
 "metadata": {
  "kernelspec": {
   "display_name": "Python 3 (ipykernel)",
   "language": "python",
   "name": "python3"
  },
  "language_info": {
   "codemirror_mode": {
    "name": "ipython",
    "version": 3
   },
   "file_extension": ".py",
   "mimetype": "text/x-python",
   "name": "python",
   "nbconvert_exporter": "python",
   "pygments_lexer": "ipython3",
   "version": "3.9.12"
  }
 },
 "nbformat": 4,
 "nbformat_minor": 5
}
